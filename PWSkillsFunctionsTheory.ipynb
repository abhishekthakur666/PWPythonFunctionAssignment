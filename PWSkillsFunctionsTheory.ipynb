{
  "nbformat": 4,
  "nbformat_minor": 0,
  "metadata": {
    "colab": {
      "provenance": []
    },
    "kernelspec": {
      "name": "python3",
      "display_name": "Python 3"
    },
    "language_info": {
      "name": "python"
    }
  },
  "cells": [
    {
      "cell_type": "markdown",
      "source": [
        "# 1. What is the difference between a function and a method in Python?"
      ],
      "metadata": {
        "id": "yssQNG6tDYhY"
      }
    },
    {
      "cell_type": "code",
      "source": [
        "# Function - A function is piece of code that can exists without any class.In other words functions have a global scope and can be invoked from anywhere.\n",
        "#e.g.\n",
        "\n",
        "def print_hello():\n",
        "  print(\"hello\")\n",
        "\n",
        "print_hello()\n",
        "\n",
        "# Method - A method is associate with class and should be invoked either with the classname (static methods) or using objectname (instance methods)\n",
        "# e.g.\n",
        "\n",
        "class Animal():\n",
        "  def __init__(self,name):\n",
        "    self.name = name\n",
        "\n",
        "  def print_name(self):\n",
        "    print(self.name)\n",
        "\n",
        "animal = Animal(\"dog\")\n",
        "animal.print_name()"
      ],
      "metadata": {
        "colab": {
          "base_uri": "https://localhost:8080/"
        },
        "id": "z4Mxj8vwFW7m",
        "outputId": "8185fb1c-e8c7-41ff-f646-1c3528258744"
      },
      "execution_count": 57,
      "outputs": [
        {
          "output_type": "stream",
          "name": "stdout",
          "text": [
            "hello\n",
            "dog\n"
          ]
        }
      ]
    },
    {
      "cell_type": "markdown",
      "source": [
        "# 2. Explain the concept of function arguments and parameters in Python."
      ],
      "metadata": {
        "id": "Blcs4ky8Gjdb"
      }
    },
    {
      "cell_type": "code",
      "source": [
        " #Parameters are one or more variables accepted as input by the functions.Paramters can be of any datatype e.g. string, list (*args), dictionary (**kwargs)\n",
        " #Arguments are actual values passed as input while invoking the function.\n",
        "\n",
        "# e.g.\n",
        "def test(name, age, *args, **kwargs):\n",
        "  print(name)\n",
        "  print(age)\n",
        "  for x in args:\n",
        "    print(f\"args={x}\")\n",
        "\n",
        "  for k,v in kwargs.items():\n",
        "    print(f\"key={k}, value={v}\")\n",
        "\n",
        "test(\"John\", 40, 10,20,30,40, city=\"London\", country=\"France\")"
      ],
      "metadata": {
        "colab": {
          "base_uri": "https://localhost:8080/"
        },
        "id": "SWDCY1xoGsaq",
        "outputId": "b83f7dbb-0f28-4e0f-f4b6-1881e95ce9ba"
      },
      "execution_count": 58,
      "outputs": [
        {
          "output_type": "stream",
          "name": "stdout",
          "text": [
            "John\n",
            "40\n",
            "args=10\n",
            "args=20\n",
            "args=30\n",
            "args=40\n",
            "key=city, value=London\n",
            "key=country, value=France\n"
          ]
        }
      ]
    },
    {
      "cell_type": "markdown",
      "source": [
        "# 3. What are the different ways to define and call a function in Python?"
      ],
      "metadata": {
        "id": "9g9cGXbxJSEC"
      }
    },
    {
      "cell_type": "code",
      "source": [
        "# A function can be defined using def keyword following by optional args defined inside paranthesis.\n",
        "\n",
        "def test():\n",
        "  print(\"test function\")\n",
        "\n",
        "test()\n",
        "\n",
        "# An anonymous function can be defined using lamda keyword\n",
        "x = lambda a,b: a+b\n",
        "print(x(10,20))\n",
        "\n",
        "\n",
        "# A function can be invoked directly as mentioned in above example, or using classname or using object name.\n",
        "class Animal():\n",
        "  breed = \"german\"\n",
        "  def __init__(self,name):\n",
        "    self.name = name\n",
        "\n",
        "  def print_name(self):\n",
        "    print(self.name)\n",
        "\n",
        "  @classmethod\n",
        "  def print_breed(cls):\n",
        "    print(cls.breed)\n",
        "\n",
        "animal = Animal(\"dog\")\n",
        "animal.print_name()\n",
        "Animal.print_breed()"
      ],
      "metadata": {
        "colab": {
          "base_uri": "https://localhost:8080/"
        },
        "id": "UQqxF6kFJY-E",
        "outputId": "50fafe37-ae80-4424-d583-c1691ef719ac"
      },
      "execution_count": 59,
      "outputs": [
        {
          "output_type": "stream",
          "name": "stdout",
          "text": [
            "test function\n",
            "30\n",
            "dog\n",
            "german\n"
          ]
        }
      ]
    },
    {
      "cell_type": "markdown",
      "source": [
        "# 4. What is the purpose of the `return` statement in a Python function?"
      ],
      "metadata": {
        "id": "6FWhOMZ8M_Qi"
      }
    },
    {
      "cell_type": "code",
      "source": [
        "# A return statement is used to break execution of a function at any point of time or at the end of function to return the control back to caller.\n",
        "# Along with that return statement can be used to return the result/output back to caller gracefully as long as no exception is cauught while running the function.\n",
        "\n",
        "def add(a,b):\n",
        "  return \"result\", a+b\n",
        "\n",
        "label, res = add(10,20)\n",
        "print(f\"{label}={res}\")"
      ],
      "metadata": {
        "colab": {
          "base_uri": "https://localhost:8080/"
        },
        "id": "yBVsx029KWzB",
        "outputId": "88ffbe46-6700-40d4-b7be-9ffd4b129a2e"
      },
      "execution_count": 60,
      "outputs": [
        {
          "output_type": "stream",
          "name": "stdout",
          "text": [
            "result=30\n"
          ]
        }
      ]
    },
    {
      "cell_type": "markdown",
      "source": [
        "# 5. What are iterators in Python and how do they differ from iterables?"
      ],
      "metadata": {
        "id": "E7r8bxN1N2kj"
      }
    },
    {
      "cell_type": "code",
      "source": [
        "# An iteratable is an object having sequence of items which can iterated over to fetch each item one by one.\n",
        "# An iteratble is an object which gives control/handler to iterate over iterable object.Usually iterable returns a iterator defined using __iter__ method.\n",
        "# Each item can be access in an iterable using iterator with next() method.\n",
        "\n",
        "#e.g.\n",
        "myList = [\"1\", \"2\", \"3\"]\n",
        "iterator = myList.__iter__()\n",
        "print(next(iterator))\n",
        "print(next(iterator))\n",
        "print(next(iterator))\n"
      ],
      "metadata": {
        "colab": {
          "base_uri": "https://localhost:8080/"
        },
        "id": "n6dd7J0fN7FZ",
        "outputId": "dada0bb6-fcd3-4cdb-b49c-e7783589d7dc"
      },
      "execution_count": 61,
      "outputs": [
        {
          "output_type": "stream",
          "name": "stdout",
          "text": [
            "1\n",
            "2\n",
            "3\n"
          ]
        }
      ]
    },
    {
      "cell_type": "markdown",
      "source": [
        "# 6. Explain the concept of generators in Python and how they are defined.\n",
        "\n",
        "> Add blockquote\n",
        "\n"
      ],
      "metadata": {
        "id": "WTQGXo_9PsYd"
      }
    },
    {
      "cell_type": "code",
      "source": [
        "# Generator is a type of iterable, similar to lists or tuples, but with a key distinction -\n",
        "# it doesn't store all of its values in memory at once. Instead, it generates values on the fly as you iterate over it.\n",
        "# This makes generators memory-efficient, especially when dealing with large datasets or when generating an indefinite sequence of values.\n",
        "\n",
        "# Generators are defined using functions or generator expressions, and they make use of the yield keyword to produce values one at a time.\n",
        "#  When the yield statement is encountered in a generator function, it temporarily suspends the function's execution, yielding the value to the caller.\n",
        "# The function's state is preserved, so it can resume from where it left off the next time it's called.\n",
        "\n",
        "def testGenerator(n):\n",
        "    for i in range(n):\n",
        "      yield i\n",
        "      print(\"Back in generator function\")\n",
        "\n",
        "for x in testGenerator(10):\n",
        "  print(f\"yielded:{x}\")\n"
      ],
      "metadata": {
        "colab": {
          "base_uri": "https://localhost:8080/"
        },
        "id": "SPHfquxpP1CR",
        "outputId": "2a77f53e-5551-4e29-aeae-fe035dd587a1"
      },
      "execution_count": 62,
      "outputs": [
        {
          "output_type": "stream",
          "name": "stdout",
          "text": [
            "yielded:0\n",
            "Back in generator function\n",
            "yielded:1\n",
            "Back in generator function\n",
            "yielded:2\n",
            "Back in generator function\n",
            "yielded:3\n",
            "Back in generator function\n",
            "yielded:4\n",
            "Back in generator function\n",
            "yielded:5\n",
            "Back in generator function\n",
            "yielded:6\n",
            "Back in generator function\n",
            "yielded:7\n",
            "Back in generator function\n",
            "yielded:8\n",
            "Back in generator function\n",
            "yielded:9\n",
            "Back in generator function\n"
          ]
        }
      ]
    },
    {
      "cell_type": "markdown",
      "source": [
        "# 7. What are the advantages of using generators over regular functions?"
      ],
      "metadata": {
        "id": "owdJQwudRGfI"
      }
    },
    {
      "cell_type": "code",
      "source": [
        "# There are mainly 2 benefits of using generators over regular functions -\n",
        "\n",
        "# Memory Efficiency: Generators generate values on the fly, reducing memory usage compared to storing the entire sequence in memory.\n",
        "# Lazy Evaluation: Values are computed only when needed, which can lead to performance improvements, especially with large datasets.\n",
        "\n",
        "# e.g define the function returning the square of list of numbers passed as an argument.\n",
        "\n",
        "# normal function returning list of size 5\n",
        "def square_numbers_1(nums):\n",
        "  result = []\n",
        "  for k in range(nums):\n",
        "    result.append(k*k)\n",
        "\n",
        "  return result\n",
        "\n",
        "res = square_numbers_1(5)\n",
        "for r in res:\n",
        "  if r > 10:\n",
        "    break\n",
        "  print(f\"F={r}\")\n",
        "\n",
        "print(\"\\n\\n\")\n",
        "# generator returning output one by one to caller for inspection and break if required\n",
        "def square_numbers_2(nums):\n",
        "    for i in range(nums):\n",
        "        yield (i*i)\n",
        "\n",
        "for i in square_numbers_2(5):\n",
        "  if i > 10:\n",
        "    break\n",
        "  print(f\"G={i}\")\n",
        "\n"
      ],
      "metadata": {
        "colab": {
          "base_uri": "https://localhost:8080/"
        },
        "id": "mgO7Cw28RX4Z",
        "outputId": "95dff5cd-8236-4f36-a0ae-25a5c244bb0a"
      },
      "execution_count": 63,
      "outputs": [
        {
          "output_type": "stream",
          "name": "stdout",
          "text": [
            "F=0\n",
            "F=1\n",
            "F=4\n",
            "F=9\n",
            "\n",
            "\n",
            "\n",
            "G=0\n",
            "G=1\n",
            "G=4\n",
            "G=9\n"
          ]
        }
      ]
    },
    {
      "cell_type": "markdown",
      "source": [
        "# 8. What is a lambda function in Python and when is it typically used?"
      ],
      "metadata": {
        "id": "D0WlYyW0WNkx"
      }
    },
    {
      "cell_type": "code",
      "source": [
        "# A lambda function is a small anonymous function that is used to evaluate a single expression and return it.\n",
        "# Lambda functions are often used for quick, one-time operations that can be written in a single line.\n",
        "# Use cases -\n",
        "#  -  Lambda functions are often passed as arguments to higher-order functions like map(), filter(), and reduce().\n",
        "#  - The assign() function with a lambda function can create or modify columns in a DataFrame.\n",
        "\n",
        "# e.g.\n",
        "\n",
        "x = lambda a,b: a+b\n",
        "print(x(10,20))"
      ],
      "metadata": {
        "colab": {
          "base_uri": "https://localhost:8080/"
        },
        "id": "rVi8px1YWOs1",
        "outputId": "11c21e79-523b-4eb0-8c88-fbb0c36844cc"
      },
      "execution_count": 64,
      "outputs": [
        {
          "output_type": "stream",
          "name": "stdout",
          "text": [
            "30\n"
          ]
        }
      ]
    },
    {
      "cell_type": "markdown",
      "source": [
        "# 9. Explain the purpose and usage of the `map()` function in Python."
      ],
      "metadata": {
        "id": "ivaJB6tVZwLp"
      }
    },
    {
      "cell_type": "code",
      "source": [
        "# A map function accepts a function/callback handler and iteratable and iterates over the iterable one by function and pass the item to the specified function.\n",
        "# After calling function with each item, result returned by the function is cached against input in a map.Final result of all items is consolidated in the form of one final iterable.\n",
        "\n",
        "# e.g.\n",
        "\n",
        "def doubleit(n):\n",
        "  return n*2\n",
        "\n",
        "res = map(doubleit, [1,2,3,4])\n",
        "print(list(res))\n"
      ],
      "metadata": {
        "colab": {
          "base_uri": "https://localhost:8080/"
        },
        "id": "GvEbSYRPZxvB",
        "outputId": "fe7d3751-88b6-413c-80ba-cd643df4ed2f"
      },
      "execution_count": 65,
      "outputs": [
        {
          "output_type": "stream",
          "name": "stdout",
          "text": [
            "[2, 4, 6, 8]\n"
          ]
        }
      ]
    },
    {
      "cell_type": "markdown",
      "source": [
        "# 10. What is the difference between `map()`, `reduce()`, and `filter()` functions in Python?"
      ],
      "metadata": {
        "id": "zLkTSeLza9Dd"
      }
    },
    {
      "cell_type": "code",
      "source": [
        "# Map applies a given function to each item of an array and returns a new array\n",
        "# Reduce applies a given function to the first two items and repeats this process until an output remains.\n",
        "# Filter creates a new array with all elements that pass a test implemented by the provided function\n",
        "\n",
        "# e.g Map\n",
        "def doubleit(n):\n",
        "  return n*2\n",
        "\n",
        "res = map(doubleit, [1,2,3,4])\n",
        "print(list(res))\n",
        "\n",
        "\n",
        "# e.g. Reduce\n",
        "from functools import reduce\n",
        "def add(a,b):\n",
        "  return a+b\n",
        "\n",
        "res = reduce(add, [1,2,3,4])\n",
        "print(res)\n",
        "\n",
        "# e.g. Filter\n",
        "def is_even(n):\n",
        "  return n%2==0\n",
        "\n",
        "res = filter(is_even, [1,2,3,4])\n",
        "print(list(res))"
      ],
      "metadata": {
        "colab": {
          "base_uri": "https://localhost:8080/"
        },
        "id": "FghfxcLna_94",
        "outputId": "88a13d98-b0be-462e-ed7b-2b17edd113ca"
      },
      "execution_count": 66,
      "outputs": [
        {
          "output_type": "stream",
          "name": "stdout",
          "text": [
            "[2, 4, 6, 8]\n",
            "10\n",
            "[2, 4]\n"
          ]
        }
      ]
    },
    {
      "cell_type": "markdown",
      "source": [
        "11. Using pen & Paper write the internal mechanism for sum operation using  reduce function on this given\n",
        "list:[47,11,42,13];"
      ],
      "metadata": {
        "id": "qlKtuw3wcjy3"
      }
    },
    {
      "cell_type": "code",
      "source": [
        "# <TBD>"
      ],
      "metadata": {
        "id": "qOlo9upaclzI"
      },
      "execution_count": 67,
      "outputs": []
    }
  ]
}