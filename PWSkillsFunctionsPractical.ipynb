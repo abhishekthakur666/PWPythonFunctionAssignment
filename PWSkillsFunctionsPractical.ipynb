{
  "nbformat": 4,
  "nbformat_minor": 0,
  "metadata": {
    "colab": {
      "provenance": []
    },
    "kernelspec": {
      "name": "python3",
      "display_name": "Python 3"
    },
    "language_info": {
      "name": "python"
    }
  },
  "cells": [
    {
      "cell_type": "markdown",
      "source": [
        "# 1. Write a Python function that takes a list of numbers as input and returns the sum of all even numbers in the list."
      ],
      "metadata": {
        "id": "uBOiQ7WQfMV3"
      }
    },
    {
      "cell_type": "code",
      "source": [
        "# Write a Python function that takes a list of numbers as input and returns the sum of all even numbers in the list.\n",
        "\n",
        "def add_even_numbers(numbers):\n",
        "    res = 0\n",
        "    for num in numbers:\n",
        "        if num % 2 == 0:\n",
        "            res += num\n",
        "    return res\n",
        "\n",
        "print(add_even_numbers([1,2,3,4,5,6,]))\n"
      ],
      "metadata": {
        "colab": {
          "base_uri": "https://localhost:8080/"
        },
        "id": "rK0c6VghfOx4",
        "outputId": "56c44f57-977d-4e86-f6b1-e83e48deca1f"
      },
      "execution_count": 49,
      "outputs": [
        {
          "output_type": "stream",
          "name": "stdout",
          "text": [
            "12\n"
          ]
        }
      ]
    },
    {
      "cell_type": "markdown",
      "source": [
        "# 2. Create a Python function that accepts a string and returns the reverse of that string."
      ],
      "metadata": {
        "id": "VNoFfPVnf6qZ"
      }
    },
    {
      "cell_type": "code",
      "source": [
        "# Create a Python function that accepts a string and returns the reverse of that string.\n",
        "\n",
        "# Inbuilt method\n",
        "def reverse_string(string):\n",
        "    return string[::-1]\n",
        "print(reverse_string(\"hello\"))\n",
        "\n",
        "# custom defined method\n",
        "def reverse_string(string):\n",
        "    x = \"\"\n",
        "    length = len(string)\n",
        "    while length > 0:\n",
        "      length -= 1\n",
        "      c = string[length]\n",
        "      x += c\n",
        "\n",
        "    return x\n",
        "\n",
        "print(reverse_string(\"hello\"))"
      ],
      "metadata": {
        "colab": {
          "base_uri": "https://localhost:8080/"
        },
        "id": "QUONlgnGgA1o",
        "outputId": "d3a61660-25cc-4bc7-8120-4dfd1b19e41a"
      },
      "execution_count": 50,
      "outputs": [
        {
          "output_type": "stream",
          "name": "stdout",
          "text": [
            "olleh\n",
            "olleh\n"
          ]
        }
      ]
    },
    {
      "cell_type": "markdown",
      "source": [
        "# 3.Implement a Python function that takes a list of integers and returns a new list containing the squares of each number."
      ],
      "metadata": {
        "id": "i0ef4TxQhFbw"
      }
    },
    {
      "cell_type": "code",
      "source": [
        "#  Implement a Python function that takes a list of integers and returns a new list containing the squares of each number.\n",
        "\n",
        "def square_numbers(numbers):\n",
        "    res = []\n",
        "    for num in numbers:\n",
        "        res.append(num**2)\n",
        "    return res\n",
        "\n",
        "print(square_numbers([1,2,3,4,5]))"
      ],
      "metadata": {
        "colab": {
          "base_uri": "https://localhost:8080/"
        },
        "id": "fkKFLhaHgjCD",
        "outputId": "03b8d142-18ee-4fba-ab4b-b91def1c2b4c"
      },
      "execution_count": 51,
      "outputs": [
        {
          "output_type": "stream",
          "name": "stdout",
          "text": [
            "[1, 4, 9, 16, 25]\n"
          ]
        }
      ]
    },
    {
      "cell_type": "markdown",
      "source": [
        "# 4. Write a Python function that checks if a given number is prime or not from 1 to 200."
      ],
      "metadata": {
        "id": "SniqWwLshozJ"
      }
    },
    {
      "cell_type": "code",
      "source": [
        "# Write a Python function that checks if a given number is prime or not from 1 to 200.\n",
        "\n",
        "def is_prime(num):\n",
        "    if num < 2:\n",
        "        return False\n",
        "    for i in range(2, int(num**0.5) + 1):\n",
        "        if num % i == 0:\n",
        "            return False\n",
        "    return True\n",
        "\n",
        "for i in range(201):\n",
        "  if i  == 0:\n",
        "    continue\n",
        "  print(f\"{i}={is_prime(i)}\")"
      ],
      "metadata": {
        "colab": {
          "base_uri": "https://localhost:8080/"
        },
        "id": "tydxGMcEh6H-",
        "outputId": "e6f316f8-00a5-43a5-e635-4be1ef7d52b7"
      },
      "execution_count": 52,
      "outputs": [
        {
          "output_type": "stream",
          "name": "stdout",
          "text": [
            "1=False\n",
            "2=True\n",
            "3=True\n",
            "4=False\n",
            "5=True\n",
            "6=False\n",
            "7=True\n",
            "8=False\n",
            "9=False\n",
            "10=False\n",
            "11=True\n",
            "12=False\n",
            "13=True\n",
            "14=False\n",
            "15=False\n",
            "16=False\n",
            "17=True\n",
            "18=False\n",
            "19=True\n",
            "20=False\n",
            "21=False\n",
            "22=False\n",
            "23=True\n",
            "24=False\n",
            "25=False\n",
            "26=False\n",
            "27=False\n",
            "28=False\n",
            "29=True\n",
            "30=False\n",
            "31=True\n",
            "32=False\n",
            "33=False\n",
            "34=False\n",
            "35=False\n",
            "36=False\n",
            "37=True\n",
            "38=False\n",
            "39=False\n",
            "40=False\n",
            "41=True\n",
            "42=False\n",
            "43=True\n",
            "44=False\n",
            "45=False\n",
            "46=False\n",
            "47=True\n",
            "48=False\n",
            "49=False\n",
            "50=False\n",
            "51=False\n",
            "52=False\n",
            "53=True\n",
            "54=False\n",
            "55=False\n",
            "56=False\n",
            "57=False\n",
            "58=False\n",
            "59=True\n",
            "60=False\n",
            "61=True\n",
            "62=False\n",
            "63=False\n",
            "64=False\n",
            "65=False\n",
            "66=False\n",
            "67=True\n",
            "68=False\n",
            "69=False\n",
            "70=False\n",
            "71=True\n",
            "72=False\n",
            "73=True\n",
            "74=False\n",
            "75=False\n",
            "76=False\n",
            "77=False\n",
            "78=False\n",
            "79=True\n",
            "80=False\n",
            "81=False\n",
            "82=False\n",
            "83=True\n",
            "84=False\n",
            "85=False\n",
            "86=False\n",
            "87=False\n",
            "88=False\n",
            "89=True\n",
            "90=False\n",
            "91=False\n",
            "92=False\n",
            "93=False\n",
            "94=False\n",
            "95=False\n",
            "96=False\n",
            "97=True\n",
            "98=False\n",
            "99=False\n",
            "100=False\n",
            "101=True\n",
            "102=False\n",
            "103=True\n",
            "104=False\n",
            "105=False\n",
            "106=False\n",
            "107=True\n",
            "108=False\n",
            "109=True\n",
            "110=False\n",
            "111=False\n",
            "112=False\n",
            "113=True\n",
            "114=False\n",
            "115=False\n",
            "116=False\n",
            "117=False\n",
            "118=False\n",
            "119=False\n",
            "120=False\n",
            "121=False\n",
            "122=False\n",
            "123=False\n",
            "124=False\n",
            "125=False\n",
            "126=False\n",
            "127=True\n",
            "128=False\n",
            "129=False\n",
            "130=False\n",
            "131=True\n",
            "132=False\n",
            "133=False\n",
            "134=False\n",
            "135=False\n",
            "136=False\n",
            "137=True\n",
            "138=False\n",
            "139=True\n",
            "140=False\n",
            "141=False\n",
            "142=False\n",
            "143=False\n",
            "144=False\n",
            "145=False\n",
            "146=False\n",
            "147=False\n",
            "148=False\n",
            "149=True\n",
            "150=False\n",
            "151=True\n",
            "152=False\n",
            "153=False\n",
            "154=False\n",
            "155=False\n",
            "156=False\n",
            "157=True\n",
            "158=False\n",
            "159=False\n",
            "160=False\n",
            "161=False\n",
            "162=False\n",
            "163=True\n",
            "164=False\n",
            "165=False\n",
            "166=False\n",
            "167=True\n",
            "168=False\n",
            "169=False\n",
            "170=False\n",
            "171=False\n",
            "172=False\n",
            "173=True\n",
            "174=False\n",
            "175=False\n",
            "176=False\n",
            "177=False\n",
            "178=False\n",
            "179=True\n",
            "180=False\n",
            "181=True\n",
            "182=False\n",
            "183=False\n",
            "184=False\n",
            "185=False\n",
            "186=False\n",
            "187=False\n",
            "188=False\n",
            "189=False\n",
            "190=False\n",
            "191=True\n",
            "192=False\n",
            "193=True\n",
            "194=False\n",
            "195=False\n",
            "196=False\n",
            "197=True\n",
            "198=False\n",
            "199=True\n",
            "200=False\n"
          ]
        }
      ]
    },
    {
      "cell_type": "markdown",
      "source": [
        "# 5. Create an iterator class in Python that generates the Fibonacci sequence up to a specified number of terms."
      ],
      "metadata": {
        "id": "zg6yjNuuimUW"
      }
    },
    {
      "cell_type": "code",
      "source": [
        "# Create an iterator class in Python that generates the Fibonacci sequence up to a specified number of terms.\n",
        "\n",
        "class FibonacciIter():\n",
        "\n",
        "  def __iter__(self):\n",
        "    self.a = 0\n",
        "    self.b = 1\n",
        "    return self\n",
        "\n",
        "  def __next__(self):\n",
        "    fib = self.a\n",
        "    if fib > 100:\n",
        "      raise StopIteration\n",
        "    self.a, self.b = self.b, self.a + self.b\n",
        "    return fib\n",
        "\n",
        "fib = FibonacciIter()\n",
        "for i in fib:\n",
        "  print(i)"
      ],
      "metadata": {
        "colab": {
          "base_uri": "https://localhost:8080/"
        },
        "id": "wkXIws_JipAE",
        "outputId": "f4815526-f712-4b0e-c056-4c1bf02b83fb"
      },
      "execution_count": 53,
      "outputs": [
        {
          "output_type": "stream",
          "name": "stdout",
          "text": [
            "0\n",
            "1\n",
            "1\n",
            "2\n",
            "3\n",
            "5\n",
            "8\n",
            "13\n",
            "21\n",
            "34\n",
            "55\n",
            "89\n"
          ]
        }
      ]
    },
    {
      "cell_type": "markdown",
      "source": [
        "# 6.Write a generator function in Python that yields the powers of 2 up to a given exponent."
      ],
      "metadata": {
        "id": "l3J_9vB-kt-J"
      }
    },
    {
      "cell_type": "code",
      "source": [
        "# Write a generator function in Python that yields the powers of 2 up to a given exponent.\n",
        "\n",
        "\n",
        "def generate_powers_of_2(exponent):\n",
        "    for i in range(exponent + 1):\n",
        "        yield 2 ** i\n",
        "\n",
        "# Example usage\n",
        "for power in generate_powers_of_2(5):\n",
        "    print(power)\n",
        "\n"
      ],
      "metadata": {
        "colab": {
          "base_uri": "https://localhost:8080/"
        },
        "id": "8rlsP_itkxFM",
        "outputId": "fd7949e1-b717-4c07-f0a2-6e92e70de483"
      },
      "execution_count": 54,
      "outputs": [
        {
          "output_type": "stream",
          "name": "stdout",
          "text": [
            "1\n",
            "2\n",
            "4\n",
            "8\n",
            "16\n",
            "32\n"
          ]
        }
      ]
    },
    {
      "cell_type": "markdown",
      "source": [
        "# 7. Implement a generator function that reads a file line by line and yields each line as a string."
      ],
      "metadata": {
        "id": "qXPPYluylQBv"
      }
    },
    {
      "cell_type": "code",
      "source": [
        "# Implement a generator function that reads a file line by line and yields each line as a string.\n",
        "\n",
        "!wget https://example-files.online-convert.com/document/txt/example.txt\n",
        "\n",
        "def read_file_line_by_line(file_path):\n",
        "    with open(file_path, 'r') as file:\n",
        "        for line in file:\n",
        "            yield line\n",
        "\n",
        "for l in read_file_line_by_line('example.txt'):\n",
        "  print(l)"
      ],
      "metadata": {
        "colab": {
          "base_uri": "https://localhost:8080/"
        },
        "id": "bEeqS_KklZpz",
        "outputId": "b8e309a9-9071-4967-e3b9-8c9cfd34816f"
      },
      "execution_count": 55,
      "outputs": [
        {
          "output_type": "stream",
          "name": "stdout",
          "text": [
            "--2024-09-22 17:38:19--  https://example-files.online-convert.com/document/txt/example.txt\n",
            "Resolving example-files.online-convert.com (example-files.online-convert.com)... 104.22.58.173, 172.67.4.125, 104.22.59.173, ...\n",
            "Connecting to example-files.online-convert.com (example-files.online-convert.com)|104.22.58.173|:443... connected.\n",
            "HTTP request sent, awaiting response... 200 OK\n",
            "Length: unspecified [text/plain]\n",
            "Saving to: ‘example.txt.2’\n",
            "\n",
            "example.txt.2           [ <=>                ]   2.51K  --.-KB/s    in 0s      \n",
            "\n",
            "2024-09-22 17:38:19 (54.7 MB/s) - ‘example.txt.2’ saved [2574]\n",
            "\n",
            "TXT test file\n",
            "\n",
            "Purpose: Provide example of this file type\n",
            "\n",
            "Document file type: TXT\n",
            "\n",
            "Version: 1.0\n",
            "\n",
            "Remark:\n",
            "\n",
            "\n",
            "\n",
            "Example content:\n",
            "\n",
            "The names \"John Doe\" for males, \"Jane Doe\" or \"Jane Roe\" for females, or \"Jonnie Doe\" and \"Janie Doe\" for children, or just \"Doe\" non-gender-specifically are used as placeholder names for a party whose true identity is unknown or must be withheld in a legal action, case, or discussion. The names are also used to refer to acorpse or hospital patient whose identity is unknown. This practice is widely used in the United States and Canada, but is rarely used in other English-speaking countries including the United Kingdom itself, from where the use of \"John Doe\" in a legal context originates. The names Joe Bloggs or John Smith are used in the UK instead, as well as in Australia and New Zealand.\n",
            "\n",
            "\n",
            "\n",
            "John Doe is sometimes used to refer to a typical male in other contexts as well, in a similar manner to John Q. Public, known in Great Britain as Joe Public, John Smith or Joe Bloggs. For example, the first name listed on a form is often John Doe, along with a fictional address or other fictional information to provide an example of how to fill in the form. The name is also used frequently in popular culture, for example in the Frank Capra film Meet John Doe. John Doe was also the name of a 2002 American television series.\n",
            "\n",
            "\n",
            "\n",
            "Similarly, a child or baby whose identity is unknown may be referred to as Baby Doe. A notorious murder case in Kansas City, Missouri, referred to the baby victim as Precious Doe. Other unidentified female murder victims are Cali Doe and Princess Doe. Additional persons may be called James Doe, Judy Doe, etc. However, to avoid possible confusion, if two anonymous or unknown parties are cited in a specific case or action, the surnames Doe and Roe may be used simultaneously; for example, \"John Doe v. Jane Roe\". If several anonymous parties are referenced, they may simply be labelled John Doe #1, John Doe #2, etc. (the U.S. Operation Delego cited 21 (numbered) \"John Doe\"s) or labelled with other variants of Doe / Roe / Poe / etc. Other early alternatives such as John Stiles and Richard Miles are now rarely used, and Mary Major has been used in some American federal cases.\n",
            "\n",
            "\n",
            "\n",
            "\n",
            "\n",
            "\n",
            "\n",
            "File created by https://www.online-convert.com\n",
            "\n",
            "More example files: https://www.online-convert.com/file-type\n",
            "\n",
            "Text of Example content: Wikipedia (https://en.wikipedia.org/wiki/John_Doe)\n",
            "\n",
            "License: Attribution-ShareAlike 4.0 (https://creativecommons.org/licenses/by-sa/4.0/)\n",
            "\n",
            "\n",
            "\n",
            "Feel free to use and share the file according to the license above.\n"
          ]
        }
      ]
    },
    {
      "cell_type": "markdown",
      "source": [
        "# 8. Use a lambda function in Python to sort a list of tuples based on the second element of each tuple."
      ],
      "metadata": {
        "id": "oxg3NtItmlBU"
      }
    },
    {
      "cell_type": "code",
      "source": [
        "# Use a lambda function in Python to sort a list of tuples based on the second element of each tuple.\n",
        "\n",
        "def sort_list_of_tuples(lst):\n",
        "    return sorted(lst, key=lambda x: x[1])\n",
        "\n",
        "sort_list_of_tuples([(2,3), (1,2), (5,6), (2,4)])"
      ],
      "metadata": {
        "colab": {
          "base_uri": "https://localhost:8080/"
        },
        "id": "p_vsZ2LQmzLV",
        "outputId": "94be7731-900c-4ac5-f342-8540b376289b"
      },
      "execution_count": 56,
      "outputs": [
        {
          "output_type": "execute_result",
          "data": {
            "text/plain": [
              "[(1, 2), (2, 3), (2, 4), (5, 6)]"
            ]
          },
          "metadata": {},
          "execution_count": 56
        }
      ]
    },
    {
      "cell_type": "markdown",
      "source": [
        "# 9. Write a Python program that uses `map()` to convert a list of temperatures from Celsius to Fahrenheit."
      ],
      "metadata": {
        "id": "2oCdOCz0nflP"
      }
    },
    {
      "cell_type": "code",
      "source": [
        "# Write a Python program that uses `map()` to convert a list of temperatures from Celsius to Fahrenheit.\n",
        "\n",
        "def celsius_to_fahrenheit(celsius):\n",
        "    return (celsius * 9/5) + 32\n",
        "\n",
        "celsius_temperatures = [0, 10, 20, 30, 40]\n",
        "fahrenheit_temperatures = list(map(celsius_to_fahrenheit, celsius_temperatures))\n",
        "\n",
        "print(fahrenheit_temperatures)"
      ],
      "metadata": {
        "colab": {
          "base_uri": "https://localhost:8080/"
        },
        "id": "vOsRnZU0nsFk",
        "outputId": "e8581a49-9e08-47d1-e7d6-96eea8ee4bc1"
      },
      "execution_count": 57,
      "outputs": [
        {
          "output_type": "stream",
          "name": "stdout",
          "text": [
            "[32.0, 50.0, 68.0, 86.0, 104.0]\n"
          ]
        }
      ]
    },
    {
      "cell_type": "markdown",
      "source": [
        "# 10. Create a Python program that uses `filter()` to remove all the vowels from a given string."
      ],
      "metadata": {
        "id": "-uRn1k1joAGb"
      }
    },
    {
      "cell_type": "code",
      "source": [
        "# Create a Python program that uses `filter()` to remove all the vowels from a given string.\n",
        "\n",
        "vowels = 'aeiouAEIOU'\n",
        "def remove_vowels(string):\n",
        "    return ''.join(filter(lambda x: x not in vowels, string))\n",
        "\n",
        "print(remove_vowels(\"We live in AI world !\"))"
      ],
      "metadata": {
        "colab": {
          "base_uri": "https://localhost:8080/"
        },
        "id": "GJ5X4-HfoJHl",
        "outputId": "34775f5a-1ae9-433e-daf2-8de0fcc4b149"
      },
      "execution_count": 58,
      "outputs": [
        {
          "output_type": "stream",
          "name": "stdout",
          "text": [
            "W lv n  wrld !\n"
          ]
        }
      ]
    },
    {
      "cell_type": "markdown",
      "source": [
        "# 11 Imagine an accounting routine used in a book shop. It works on a list with sublists, which look like given example :\n",
        "\n",
        "#Write a Python program, which returns a list with 2-tuples. Each tuple consists of the order number and the product of the price per item and the quantity. The product should be increased by 10,- € if the value of the order is smaller than 100,00 €.\n",
        "\n",
        "# Write a Python program using lambda and map"
      ],
      "metadata": {
        "id": "ciCjUgPEozNs"
      }
    },
    {
      "cell_type": "code",
      "source": [
        "order_book = []\n",
        "order_book.append({\"order_number\" : 100, \"book_title_author\" : \"Jerry\", \"quantity\" : 50, \"price_per_item\" : 50})\n",
        "order_book.append({\"order_number\" : 200, \"book_title_author\" : \"James\", \"quantity\" : 500, \"price_per_item\" : 60})\n",
        "order_book.append({\"order_number\" : 300, \"book_title_author\" : \"John\", \"quantity\" : 20, \"price_per_item\" : 80})\n",
        "order_book.append({\"order_number\" : 400, \"book_title_author\" : \"Tom\", \"quantity\" : 200, \"price_per_item\" : 90})\n",
        "order_book.append({\"order_number\" : 500, \"book_title_author\" : \"Harry\", \"quantity\" : 6000, \"price_per_item\" : 70})\n",
        "order_book.append({\"order_number\" : 600, \"book_title_author\" : \"Jim\", \"quantity\" : 5000, \"price_per_item\" : 85})\n",
        "order_book.append({\"order_number\" : 700, \"book_title_author\" : \"Ben\", \"quantity\" : 2000, \"price_per_item\" : 45})\n",
        "order_book.append({\"order_number\" : 800, \"book_title_author\" : \"Smith\", \"quantity\" : 1000, \"price_per_item\" : 205})\n",
        "\n",
        "order_value = list(map(lambda x: (x[\"order_number\"], x[\"price_per_item\"] * x[\"quantity\"]), order_book))\n",
        "final_order_value = list(map(lambda x: (x[0], x[1] + 10) if x[1] < 10000 else (x[0], x[1]), order_value))\n",
        "print(final_order_value)"
      ],
      "metadata": {
        "colab": {
          "base_uri": "https://localhost:8080/"
        },
        "id": "tLWWg1jUo7L5",
        "outputId": "f085ab49-1a57-486d-e5ec-c2def0c93058"
      },
      "execution_count": 59,
      "outputs": [
        {
          "output_type": "stream",
          "name": "stdout",
          "text": [
            "[(100, 2510), (200, 30000), (300, 1610), (400, 18000), (500, 420000), (600, 425000), (700, 90000), (800, 205000)]\n"
          ]
        }
      ]
    },
    {
      "cell_type": "code",
      "source": [],
      "metadata": {
        "id": "4ccxn1Yly3eA"
      },
      "execution_count": 59,
      "outputs": []
    }
  ]
}